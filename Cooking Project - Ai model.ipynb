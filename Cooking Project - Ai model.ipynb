{
 "cells": [
  {
   "cell_type": "code",
   "execution_count": 2,
   "metadata": {},
   "outputs": [
    {
     "name": "stdout",
     "output_type": "stream",
     "text": [
      "Requirement already satisfied: aitextgen in c:\\users\\flash\\appdata\\local\\packages\\pythonsoftwarefoundation.python.3.9_qbz5n2kfra8p0\\localcache\\local-packages\\python39\\site-packages (0.5.2)\n",
      "Requirement already satisfied: transformers>=4.5.1 in c:\\users\\flash\\appdata\\local\\packages\\pythonsoftwarefoundation.python.3.9_qbz5n2kfra8p0\\localcache\\local-packages\\python39\\site-packages (from aitextgen) (4.20.1)\n",
      "Requirement already satisfied: pytorch-lightning>=1.3.1 in c:\\users\\flash\\appdata\\local\\packages\\pythonsoftwarefoundation.python.3.9_qbz5n2kfra8p0\\localcache\\local-packages\\python39\\site-packages (from aitextgen) (1.6.5)\n",
      "Requirement already satisfied: torch>=1.6.0 in c:\\users\\flash\\appdata\\local\\packages\\pythonsoftwarefoundation.python.3.9_qbz5n2kfra8p0\\localcache\\local-packages\\python39\\site-packages (from aitextgen) (1.12.0+cu116)\n",
      "Requirement already satisfied: fire>=0.3.0 in c:\\users\\flash\\appdata\\local\\packages\\pythonsoftwarefoundation.python.3.9_qbz5n2kfra8p0\\localcache\\local-packages\\python39\\site-packages (from aitextgen) (0.4.0)\n",
      "Requirement already satisfied: termcolor in c:\\users\\flash\\appdata\\local\\packages\\pythonsoftwarefoundation.python.3.9_qbz5n2kfra8p0\\localcache\\local-packages\\python39\\site-packages (from fire>=0.3.0->aitextgen) (1.1.0)\n",
      "Requirement already satisfied: six in c:\\users\\flash\\appdata\\local\\packages\\pythonsoftwarefoundation.python.3.9_qbz5n2kfra8p0\\localcache\\local-packages\\python39\\site-packages (from fire>=0.3.0->aitextgen) (1.16.0)\n",
      "Requirement already satisfied: torchmetrics>=0.4.1 in c:\\users\\flash\\appdata\\local\\packages\\pythonsoftwarefoundation.python.3.9_qbz5n2kfra8p0\\localcache\\local-packages\\python39\\site-packages (from pytorch-lightning>=1.3.1->aitextgen) (0.9.2)\n",
      "Requirement already satisfied: pyDeprecate>=0.3.1 in c:\\users\\flash\\appdata\\local\\packages\\pythonsoftwarefoundation.python.3.9_qbz5n2kfra8p0\\localcache\\local-packages\\python39\\site-packages (from pytorch-lightning>=1.3.1->aitextgen) (0.3.2)\n",
      "Requirement already satisfied: packaging>=17.0 in c:\\users\\flash\\appdata\\local\\packages\\pythonsoftwarefoundation.python.3.9_qbz5n2kfra8p0\\localcache\\local-packages\\python39\\site-packages (from pytorch-lightning>=1.3.1->aitextgen) (21.3)\n",
      "Requirement already satisfied: tensorboard>=2.2.0 in c:\\users\\flash\\appdata\\local\\packages\\pythonsoftwarefoundation.python.3.9_qbz5n2kfra8p0\\localcache\\local-packages\\python39\\site-packages (from pytorch-lightning>=1.3.1->aitextgen) (2.9.1)\n",
      "Requirement already satisfied: numpy>=1.17.2 in c:\\users\\flash\\appdata\\local\\packages\\pythonsoftwarefoundation.python.3.9_qbz5n2kfra8p0\\localcache\\local-packages\\python39\\site-packages (from pytorch-lightning>=1.3.1->aitextgen) (1.21.5)\n",
      "Requirement already satisfied: protobuf<=3.20.1 in c:\\users\\flash\\appdata\\local\\packages\\pythonsoftwarefoundation.python.3.9_qbz5n2kfra8p0\\localcache\\local-packages\\python39\\site-packages (from pytorch-lightning>=1.3.1->aitextgen) (3.19.4)\n",
      "Requirement already satisfied: fsspec[http]!=2021.06.0,>=2021.05.0 in c:\\users\\flash\\appdata\\local\\packages\\pythonsoftwarefoundation.python.3.9_qbz5n2kfra8p0\\localcache\\local-packages\\python39\\site-packages (from pytorch-lightning>=1.3.1->aitextgen) (2022.5.0)\n",
      "Requirement already satisfied: tqdm>=4.57.0 in c:\\users\\flash\\appdata\\local\\packages\\pythonsoftwarefoundation.python.3.9_qbz5n2kfra8p0\\localcache\\local-packages\\python39\\site-packages (from pytorch-lightning>=1.3.1->aitextgen) (4.64.0)\n",
      "Requirement already satisfied: PyYAML>=5.4 in c:\\users\\flash\\appdata\\local\\packages\\pythonsoftwarefoundation.python.3.9_qbz5n2kfra8p0\\localcache\\local-packages\\python39\\site-packages (from pytorch-lightning>=1.3.1->aitextgen) (6.0)\n",
      "Requirement already satisfied: typing-extensions>=4.0.0 in c:\\users\\flash\\appdata\\local\\packages\\pythonsoftwarefoundation.python.3.9_qbz5n2kfra8p0\\localcache\\local-packages\\python39\\site-packages (from pytorch-lightning>=1.3.1->aitextgen) (4.3.0)\n",
      "Requirement already satisfied: filelock in c:\\users\\flash\\appdata\\local\\packages\\pythonsoftwarefoundation.python.3.9_qbz5n2kfra8p0\\localcache\\local-packages\\python39\\site-packages (from transformers>=4.5.1->aitextgen) (3.7.1)\n",
      "Requirement already satisfied: requests in c:\\users\\flash\\appdata\\local\\packages\\pythonsoftwarefoundation.python.3.9_qbz5n2kfra8p0\\localcache\\local-packages\\python39\\site-packages (from transformers>=4.5.1->aitextgen) (2.28.1)\n",
      "Requirement already satisfied: huggingface-hub<1.0,>=0.1.0 in c:\\users\\flash\\appdata\\local\\packages\\pythonsoftwarefoundation.python.3.9_qbz5n2kfra8p0\\localcache\\local-packages\\python39\\site-packages (from transformers>=4.5.1->aitextgen) (0.8.1)\n",
      "Requirement already satisfied: regex!=2019.12.17 in c:\\users\\flash\\appdata\\local\\packages\\pythonsoftwarefoundation.python.3.9_qbz5n2kfra8p0\\localcache\\local-packages\\python39\\site-packages (from transformers>=4.5.1->aitextgen) (2022.7.9)\n",
      "Requirement already satisfied: tokenizers!=0.11.3,<0.13,>=0.11.1 in c:\\users\\flash\\appdata\\local\\packages\\pythonsoftwarefoundation.python.3.9_qbz5n2kfra8p0\\localcache\\local-packages\\python39\\site-packages (from transformers>=4.5.1->aitextgen) (0.12.1)\n",
      "Requirement already satisfied: aiohttp in c:\\users\\flash\\appdata\\local\\packages\\pythonsoftwarefoundation.python.3.9_qbz5n2kfra8p0\\localcache\\local-packages\\python39\\site-packages (from fsspec[http]!=2021.06.0,>=2021.05.0->pytorch-lightning>=1.3.1->aitextgen) (3.8.1)\n",
      "Requirement already satisfied: pyparsing!=3.0.5,>=2.0.2 in c:\\users\\flash\\appdata\\local\\packages\\pythonsoftwarefoundation.python.3.9_qbz5n2kfra8p0\\localcache\\local-packages\\python39\\site-packages (from packaging>=17.0->pytorch-lightning>=1.3.1->aitextgen) (3.0.7)\n",
      "Requirement already satisfied: tensorboard-data-server<0.7.0,>=0.6.0 in c:\\users\\flash\\appdata\\local\\packages\\pythonsoftwarefoundation.python.3.9_qbz5n2kfra8p0\\localcache\\local-packages\\python39\\site-packages (from tensorboard>=2.2.0->pytorch-lightning>=1.3.1->aitextgen) (0.6.1)\n",
      "Requirement already satisfied: wheel>=0.26 in c:\\users\\flash\\appdata\\local\\packages\\pythonsoftwarefoundation.python.3.9_qbz5n2kfra8p0\\localcache\\local-packages\\python39\\site-packages (from tensorboard>=2.2.0->pytorch-lightning>=1.3.1->aitextgen) (0.37.0)\n",
      "Requirement already satisfied: grpcio>=1.24.3 in c:\\users\\flash\\appdata\\local\\packages\\pythonsoftwarefoundation.python.3.9_qbz5n2kfra8p0\\localcache\\local-packages\\python39\\site-packages (from tensorboard>=2.2.0->pytorch-lightning>=1.3.1->aitextgen) (1.47.0)\n",
      "Requirement already satisfied: absl-py>=0.4 in c:\\users\\flash\\appdata\\local\\packages\\pythonsoftwarefoundation.python.3.9_qbz5n2kfra8p0\\localcache\\local-packages\\python39\\site-packages (from tensorboard>=2.2.0->pytorch-lightning>=1.3.1->aitextgen) (1.1.0)\n",
      "Requirement already satisfied: google-auth-oauthlib<0.5,>=0.4.1 in c:\\users\\flash\\appdata\\local\\packages\\pythonsoftwarefoundation.python.3.9_qbz5n2kfra8p0\\localcache\\local-packages\\python39\\site-packages (from tensorboard>=2.2.0->pytorch-lightning>=1.3.1->aitextgen) (0.4.6)\n",
      "Requirement already satisfied: tensorboard-plugin-wit>=1.6.0 in c:\\users\\flash\\appdata\\local\\packages\\pythonsoftwarefoundation.python.3.9_qbz5n2kfra8p0\\localcache\\local-packages\\python39\\site-packages (from tensorboard>=2.2.0->pytorch-lightning>=1.3.1->aitextgen) (1.8.1)\n",
      "Requirement already satisfied: setuptools>=41.0.0 in c:\\program files\\windowsapps\\pythonsoftwarefoundation.python.3.9_3.9.3568.0_x64__qbz5n2kfra8p0\\lib\\site-packages (from tensorboard>=2.2.0->pytorch-lightning>=1.3.1->aitextgen) (58.1.0)\n",
      "Requirement already satisfied: markdown>=2.6.8 in c:\\users\\flash\\appdata\\local\\packages\\pythonsoftwarefoundation.python.3.9_qbz5n2kfra8p0\\localcache\\local-packages\\python39\\site-packages (from tensorboard>=2.2.0->pytorch-lightning>=1.3.1->aitextgen) (3.3.7)\n",
      "Requirement already satisfied: werkzeug>=1.0.1 in c:\\users\\flash\\appdata\\local\\packages\\pythonsoftwarefoundation.python.3.9_qbz5n2kfra8p0\\localcache\\local-packages\\python39\\site-packages (from tensorboard>=2.2.0->pytorch-lightning>=1.3.1->aitextgen) (2.1.2)\n",
      "Requirement already satisfied: google-auth<3,>=1.6.3 in c:\\users\\flash\\appdata\\local\\packages\\pythonsoftwarefoundation.python.3.9_qbz5n2kfra8p0\\localcache\\local-packages\\python39\\site-packages (from tensorboard>=2.2.0->pytorch-lightning>=1.3.1->aitextgen) (2.9.1)\n",
      "Requirement already satisfied: idna<4,>=2.5 in c:\\users\\flash\\appdata\\local\\packages\\pythonsoftwarefoundation.python.3.9_qbz5n2kfra8p0\\localcache\\local-packages\\python39\\site-packages (from requests->transformers>=4.5.1->aitextgen) (3.3)\n",
      "Requirement already satisfied: urllib3<1.27,>=1.21.1 in c:\\users\\flash\\appdata\\local\\packages\\pythonsoftwarefoundation.python.3.9_qbz5n2kfra8p0\\localcache\\local-packages\\python39\\site-packages (from requests->transformers>=4.5.1->aitextgen) (1.26.10)\n",
      "Requirement already satisfied: certifi>=2017.4.17 in c:\\users\\flash\\appdata\\local\\packages\\pythonsoftwarefoundation.python.3.9_qbz5n2kfra8p0\\localcache\\local-packages\\python39\\site-packages (from requests->transformers>=4.5.1->aitextgen) (2022.6.15)\n",
      "Requirement already satisfied: charset-normalizer<3,>=2 in c:\\users\\flash\\appdata\\local\\packages\\pythonsoftwarefoundation.python.3.9_qbz5n2kfra8p0\\localcache\\local-packages\\python39\\site-packages (from requests->transformers>=4.5.1->aitextgen) (2.1.0)\n",
      "Requirement already satisfied: colorama in c:\\users\\flash\\appdata\\local\\packages\\pythonsoftwarefoundation.python.3.9_qbz5n2kfra8p0\\localcache\\local-packages\\python39\\site-packages (from tqdm>=4.57.0->pytorch-lightning>=1.3.1->aitextgen) (0.3.9)\n",
      "Requirement already satisfied: pyasn1-modules>=0.2.1 in c:\\users\\flash\\appdata\\local\\packages\\pythonsoftwarefoundation.python.3.9_qbz5n2kfra8p0\\localcache\\local-packages\\python39\\site-packages (from google-auth<3,>=1.6.3->tensorboard>=2.2.0->pytorch-lightning>=1.3.1->aitextgen) (0.2.8)\n",
      "Requirement already satisfied: rsa<5,>=3.1.4 in c:\\users\\flash\\appdata\\local\\packages\\pythonsoftwarefoundation.python.3.9_qbz5n2kfra8p0\\localcache\\local-packages\\python39\\site-packages (from google-auth<3,>=1.6.3->tensorboard>=2.2.0->pytorch-lightning>=1.3.1->aitextgen) (4.8)\n",
      "Requirement already satisfied: cachetools<6.0,>=2.0.0 in c:\\users\\flash\\appdata\\local\\packages\\pythonsoftwarefoundation.python.3.9_qbz5n2kfra8p0\\localcache\\local-packages\\python39\\site-packages (from google-auth<3,>=1.6.3->tensorboard>=2.2.0->pytorch-lightning>=1.3.1->aitextgen) (5.2.0)\n",
      "Requirement already satisfied: requests-oauthlib>=0.7.0 in c:\\users\\flash\\appdata\\local\\packages\\pythonsoftwarefoundation.python.3.9_qbz5n2kfra8p0\\localcache\\local-packages\\python39\\site-packages (from google-auth-oauthlib<0.5,>=0.4.1->tensorboard>=2.2.0->pytorch-lightning>=1.3.1->aitextgen) (1.3.1)\n",
      "Requirement already satisfied: importlib-metadata>=4.4 in c:\\users\\flash\\appdata\\local\\packages\\pythonsoftwarefoundation.python.3.9_qbz5n2kfra8p0\\localcache\\local-packages\\python39\\site-packages (from markdown>=2.6.8->tensorboard>=2.2.0->pytorch-lightning>=1.3.1->aitextgen) (4.12.0)\n",
      "Requirement already satisfied: yarl<2.0,>=1.0 in c:\\users\\flash\\appdata\\local\\packages\\pythonsoftwarefoundation.python.3.9_qbz5n2kfra8p0\\localcache\\local-packages\\python39\\site-packages (from aiohttp->fsspec[http]!=2021.06.0,>=2021.05.0->pytorch-lightning>=1.3.1->aitextgen) (1.7.2)\n",
      "Requirement already satisfied: frozenlist>=1.1.1 in c:\\users\\flash\\appdata\\local\\packages\\pythonsoftwarefoundation.python.3.9_qbz5n2kfra8p0\\localcache\\local-packages\\python39\\site-packages (from aiohttp->fsspec[http]!=2021.06.0,>=2021.05.0->pytorch-lightning>=1.3.1->aitextgen) (1.3.0)\n",
      "Requirement already satisfied: multidict<7.0,>=4.5 in c:\\users\\flash\\appdata\\local\\packages\\pythonsoftwarefoundation.python.3.9_qbz5n2kfra8p0\\localcache\\local-packages\\python39\\site-packages (from aiohttp->fsspec[http]!=2021.06.0,>=2021.05.0->pytorch-lightning>=1.3.1->aitextgen) (6.0.2)\n",
      "Requirement already satisfied: attrs>=17.3.0 in c:\\users\\flash\\appdata\\local\\packages\\pythonsoftwarefoundation.python.3.9_qbz5n2kfra8p0\\localcache\\local-packages\\python39\\site-packages (from aiohttp->fsspec[http]!=2021.06.0,>=2021.05.0->pytorch-lightning>=1.3.1->aitextgen) (21.4.0)\n",
      "Requirement already satisfied: async-timeout<5.0,>=4.0.0a3 in c:\\users\\flash\\appdata\\local\\packages\\pythonsoftwarefoundation.python.3.9_qbz5n2kfra8p0\\localcache\\local-packages\\python39\\site-packages (from aiohttp->fsspec[http]!=2021.06.0,>=2021.05.0->pytorch-lightning>=1.3.1->aitextgen) (4.0.2)\n",
      "Requirement already satisfied: aiosignal>=1.1.2 in c:\\users\\flash\\appdata\\local\\packages\\pythonsoftwarefoundation.python.3.9_qbz5n2kfra8p0\\localcache\\local-packages\\python39\\site-packages (from aiohttp->fsspec[http]!=2021.06.0,>=2021.05.0->pytorch-lightning>=1.3.1->aitextgen) (1.2.0)\n",
      "Requirement already satisfied: zipp>=0.5 in c:\\users\\flash\\appdata\\local\\packages\\pythonsoftwarefoundation.python.3.9_qbz5n2kfra8p0\\localcache\\local-packages\\python39\\site-packages (from importlib-metadata>=4.4->markdown>=2.6.8->tensorboard>=2.2.0->pytorch-lightning>=1.3.1->aitextgen) (3.8.1)\n",
      "Requirement already satisfied: pyasn1<0.5.0,>=0.4.6 in c:\\users\\flash\\appdata\\local\\packages\\pythonsoftwarefoundation.python.3.9_qbz5n2kfra8p0\\localcache\\local-packages\\python39\\site-packages (from pyasn1-modules>=0.2.1->google-auth<3,>=1.6.3->tensorboard>=2.2.0->pytorch-lightning>=1.3.1->aitextgen) (0.4.8)\n",
      "Requirement already satisfied: oauthlib>=3.0.0 in c:\\users\\flash\\appdata\\local\\packages\\pythonsoftwarefoundation.python.3.9_qbz5n2kfra8p0\\localcache\\local-packages\\python39\\site-packages (from requests-oauthlib>=0.7.0->google-auth-oauthlib<0.5,>=0.4.1->tensorboard>=2.2.0->pytorch-lightning>=1.3.1->aitextgen) (3.2.0)\n"
     ]
    }
   ],
   "source": [
    "!pip install aitextgen"
   ]
  },
  {
   "cell_type": "code",
   "execution_count": 3,
   "metadata": {},
   "outputs": [
    {
     "name": "stdout",
     "output_type": "stream",
     "text": [
      "Turkey Burgers\n",
      "\n",
      "1 lb ground turkey\n",
      "⅓ cup panko breadcrumbs\n",
      "1 tablespoon mayonnaise\n",
      "2 teaspoons worcestershire sauce\n",
      "1 teaspoon kosher salt\n",
      "½ teaspoon freshly ground black pepper\n",
      "1 tablespoon canola oil\n",
      "\n",
      "For Serving: \n",
      "burger bun\n",
      "ketchup\n",
      "tomato\n",
      "red onion\n",
      "lettuce\n",
      "pickle\n",
      "\n",
      "\n",
      "1. In a large bowl, combine the turkey, panko, mayonnaise, Worcestershire sauce, salt, and pepper, and mix with your hands until just evenly incorporated.\n",
      "2. Divide the turkey mixture into 4 equal portions and shape into 4 patties.\n",
      "3. Heat the canola oil in a large nonstick pan over medium-high heat. Once the oil begins to shimmer, add the patties and cook, without moving, until browned, 3–4 minutes. Carefully flip the patties and continue cooking until the burgers are cooked through and golden brown, or until the internal temperature reaches 165°F (75°C), 3–4 minutes more.\n",
      "4. Serve the burgers on buns with ketchup, tomato, red onion, lettuce, and pickles, if desired.\n",
      "5. Enjoy!\n",
      "\n"
     ]
    }
   ],
   "source": [
    "import json\n",
    "\n",
    "# Open the dataset JSON\n",
    "with open(\"dataSets/ingredient_and_instructions.json\", \"r\") as dataSet:\n",
    "    data = json.load(dataSet)\n",
    "\n",
    "recipie = \"\" # The individual recipie\n",
    "recipie_list = [] # Where we will store the recipie for training\n",
    "\n",
    "for meal in data:\n",
    "    # Get the recipie name and its instructions\n",
    "    meal_info = data[meal]\n",
    "    recipie += meal.replace(\"-\", \" \").title() + \"\\n\\n\"\n",
    "    recipe_instructions = meal_info[\"instructions\"]\n",
    "\n",
    "    # Get the ingredients\n",
    "    ingredients = meal_info[\"ingredient_sections\"]\n",
    "\n",
    "    for i in ingredients:\n",
    "        # Retrieve ingredients and their details\n",
    "        item = \"\"           # Dough\n",
    "        qty = \"\"            # ½\n",
    "        unit = \"\"           # cup\n",
    "        ingredient = \"\"     # unsalted butter\n",
    "        primary_unit = { \"quantity\": None, \"display\": None }\n",
    "\n",
    "        # Some ingredients arent named, but are still listed as \"1 cup\" or similar\n",
    "        # Additionally, if there is an ingredient name, it may already have a colon\n",
    "        # in front of it, so we need to check for that before formatting\n",
    "        if i[\"name\"]:\n",
    "            if i[\"name\"][-1] != \":\": # If there isnt a colon, add one\n",
    "                item = i[\"name\"] + \": \\n\"\n",
    "            else: # Otherwise, just add the name\n",
    "                item = i[\"name\"] + \" \\n\"\n",
    "        else:\n",
    "            item = \"\"\n",
    "\n",
    "        recipie += item # Add the ingredient name to the recipie\n",
    "\n",
    "        # Loop over each ingredient\n",
    "        j = 0\n",
    "        while j < len(i[\"ingredients\"]):\n",
    "            # i[\"ingredients\"][0] may not exist, use try/except to prevent\n",
    "            # any ListIndexErrors from accessing an index that doesn't exist\n",
    "            try: primary_unit = i[\"ingredients\"][j][\"primary_unit\"]\n",
    "            except: primary_unit = { \"quantity\": None, \"display\": None } # Dummy object\n",
    "\n",
    "            # Some recipies don't list an ingredient at all\n",
    "            try: ingredient += i[\"ingredients\"][j][\"name\"]\n",
    "            except: ingredient += \"\"\n",
    "\n",
    "            # If the try/except blocks above are successful, we can set the values\n",
    "            if primary_unit[\"quantity\"]: qty = primary_unit[\"quantity\"] + \" \"\n",
    "            if primary_unit[\"display\"]: unit = primary_unit[\"display\"] + \" \"\n",
    "\n",
    "            # Construct the ingredient string\n",
    "            recipie += qty + unit  + ingredient + \"\\n\"\n",
    "            ingredient = \"\"\n",
    "            j += 1\n",
    "\n",
    "        recipie += \"\\n\"\n",
    "\n",
    "    # Newline before adding instructions\n",
    "    recipie += \"\\n\"\n",
    "\n",
    "    # Loop over the instructions and format them\n",
    "    step = 1\n",
    "    for text in recipe_instructions:\n",
    "        instruction = text[\"display_text\"]\n",
    "        recipie += str(step) + \". \" + instruction + \"\\n\"\n",
    "        step += 1\n",
    "\n",
    "    # Add the recipie to the list\n",
    "    recipie_list.append(recipie)\n",
    "\n",
    "    # Free memory for the next recipie\n",
    "    recipie = \"\"\n",
    "    recipe_instructions = []\n",
    "    ingredients = []\n",
    "    item = \"\"\n",
    "    qty = \"\"\n",
    "    unit = \"\"\n",
    "    ingredient = \"\"\n",
    "\n",
    "# For testing purposes, we can output a random recipie\n",
    "import random\n",
    "print(recipie_list[random.randint(0, len(recipie_list) - 1)])\n",
    "\n",
    "#print(recipie_list[0])\n"
   ]
  },
  {
   "cell_type": "markdown",
   "metadata": {},
   "source": []
  },
  {
   "cell_type": "code",
   "execution_count": 4,
   "metadata": {},
   "outputs": [],
   "source": [
    "#CSV File 1 Record per row\n",
    "#Record: 1 string with ingredients + recipe\n",
    "\n",
    "\n",
    "# [[recipe1], [recipe2], [recipe3]]\n",
    "\n",
    "import csv\n",
    "\n",
    "with open(\"recipe2.csv\", 'w', encoding=\"utf-8\") as csvfile:\n",
    "    csvwriter = csv.writer(csvfile)\n",
    "    for recipie in recipie_list:\n",
    "        csvwriter.writerow([recipie])\n"
   ]
  },
  {
   "cell_type": "markdown",
   "metadata": {},
   "source": [
    "--- MODEL TRANING ---"
   ]
  },
  {
   "cell_type": "code",
   "execution_count": 5,
   "metadata": {},
   "outputs": [
    {
     "name": "stderr",
     "output_type": "stream",
     "text": [
      "C:\\Users\\flash\\AppData\\Local\\Packages\\PythonSoftwareFoundation.Python.3.9_qbz5n2kfra8p0\\LocalCache\\local-packages\\Python39\\site-packages\\tqdm\\auto.py:22: TqdmWarning: IProgress not found. Please update jupyter and ipywidgets. See https://ipywidgets.readthedocs.io/en/stable/user_install.html\n",
      "  from .autonotebook import tqdm as notebook_tqdm\n"
     ]
    }
   ],
   "source": [
    "from aitextgen.TokenDataset import TokenDataset\n",
    "from aitextgen.tokenizers import train_tokenizer\n",
    "from aitextgen.utils import GPT2ConfigCPU\n",
    "from aitextgen import aitextgen\n",
    "\n",
    "tokenizer_file = \"aitextgen.tokenizer.json\"\n",
    "config = GPT2ConfigCPU()\n",
    "ai = aitextgen(tokenizer_file=tokenizer_file, to_gpu=True, config=config)"
   ]
  },
  {
   "cell_type": "code",
   "execution_count": 6,
   "metadata": {},
   "outputs": [],
   "source": [
    "# THIS SECTION IS COMMENTED OUT TO PROTECT AGAINST ACCIDENTAL OVERRIDES \n",
    "\n",
    "# file_name = \"recipe2.csv\"\n",
    "# ai.save(\"aitextgen.model\")\n",
    "# train_tokenizer(file_name)\n",
    "# data = TokenDataset(file_name, tokenizer_file=tokenizer_file, block_size=64)\n",
    "# ai.train(data, batch_size=1500, num_steps=50000, generate_every=1000, save_every=5000)\n",
    "# ai.generate(prompt=\"steak\")\n",
    "\n",
    "# #Save the model\n",
    "# ai.save(\"aitextgen.model\")"
   ]
  },
  {
   "cell_type": "code",
   "execution_count": 10,
   "metadata": {},
   "outputs": [
    {
     "name": "stdout",
     "output_type": "stream",
     "text": [
      "\u001b[1mpotato\u001b[0m Breakfasts\n",
      "\n",
      "1 egg\n",
      "1 salt\n",
      "1 pepper\n",
      "1 pepper\n",
      "1 egg\n",
      "1 salt\n",
      "1 pepper\n",
      "1 pepper\n",
      "1 olive oil\n",
      "\n",
      "\n",
      "1. Preheat oven to 400°F (200°C).\n",
      "2. In a food pro\n"
     ]
    }
   ],
   "source": [
    "# Load the trained model\n",
    "ai = aitextgen(model_folder=\"trained_model\", tokenizer_file=\"aitextgen.tokenizer.json\")\n",
    "ai.generate(prompt=\"potato\")"
   ]
  }
 ],
 "metadata": {
  "kernelspec": {
   "display_name": "Python 3 (ipykernel)",
   "language": "python",
   "name": "python3"
  },
  "language_info": {
   "codemirror_mode": {
    "name": "ipython",
    "version": 3
   },
   "file_extension": ".py",
   "mimetype": "text/x-python",
   "name": "python",
   "nbconvert_exporter": "python",
   "pygments_lexer": "ipython3",
   "version": "3.9.13"
  },
  "vscode": {
   "interpreter": {
    "hash": "9c8d414b0aec66ad2f940a6d880bccb9cb3943935fd91cd7e2f5030a2b3ffe80"
   }
  }
 },
 "nbformat": 4,
 "nbformat_minor": 4
}
