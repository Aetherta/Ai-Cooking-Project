{
 "cells": [
  {
   "cell_type": "code",
   "execution_count": 10,
   "metadata": {},
   "outputs": [
    {
     "name": "stdout",
     "output_type": "stream",
     "text": [
      "Mac And Cheese Garlic Bread Bowl\n",
      "\n",
      "1 italian bread\n",
      "¾ stick unsalted butter\n",
      "6 stick garlic cloves\n",
      "3 tablespoons fresh parsley\n",
      "¼ teaspoon McCormick® red pepper flakes\n",
      "1 ½ teaspoons kosher salt\n",
      "1 ½ tablespoons olive oil\n",
      "½ cup grated parmesan cheese\n",
      "1 ½ cups heavy cream\n",
      "¾ cup shredded low-moisture mozzarella\n",
      "¼ teaspoon freshly ground black pepper\n",
      "2 ½ cups elbow macaroni\n",
      "\n",
      "\n",
      "1. Preheat the oven to 400°F (200°C).\n",
      "2. Cut off the top of the boule and reserve. Using a small, sharp knife, cut around the inside of the bread (being careful not to cut through the sides) and scoop out the center. Tear 1 loosely packed cup of the bread’s innards into 1-inch pieces, then discard or set aside the rest for another use.\n",
      "3. In a small bowl, mix together 6 tablespoons softened butter, 3 cloves garlic, 1 tablespoon parsley, the red pepper flakes, if using, and ¼ teaspoon salt.\n",
      "4. Arrange the bread bowl, top of the boule, and the torn bread on a baking sheet. Spread the compound butter over the inside of the top of the boule and all over the inside of the bread bowl.\n",
      "5. Bake for 12–14 minutes, until the bread bowl is golden brown around the edges and the torn bread is dry and beginning to brown.\n",
      "6. Transfer the torn, toasted bread to a food processor and process into coarse crumbs. You should have about ½ cup of bread crumbs.\n",
      "7. In a medium pot, heat the olive oil over medium heat until shimmering. Add the bread crumbs and toast, stirring occasionally, until golden brown, 3–4 minutes.\n",
      "8. Transfer the toasted bread crumbs to a medium bowl and add 1 tablespoon grated Parmesan cheese, 1 tablespoon parsley, and ¼ teaspoon kosher salt. Stir to combine.\n",
      "9. Wipe out the pot, then return to the stove over medium heat and add the remaining 3 tablespoons butter. When the butter is melted and bubbling, add the remaining 3 cloves garlic and sauté for 1–2 minutes, until fragrant.\n",
      "10. Add the heavy cream and cook until simmering and reduced slightly, stirring occasionally to prevent burning, 4–5 minutes. Add the remaining ½ cup Parmesan and the mozzarella cheese and stir until the cheese is fully melted and creamy and the sauce has thickened, 5–6 minutes. Season with the remaining teaspoon of salt and the pepper.\n",
      "11. Fold in the cooked elbow macaroni until well coated.\n",
      "12. Set the bread bowl on a clean baking sheet. Transfer the macaroni to the bread bowl and top with the bread crumbs.\n",
      "13. Bake for 5 minutes, until warmed through and set.\n",
      "14. Top with the remaining tablespoon of parsley and serve immediately with the toasted top of the boule.\n",
      "15. Enjoy!\n",
      "\n"
     ]
    }
   ],
   "source": [
    "import json\n",
    "\n",
    "# Open the dataset JSON\n",
    "with open(\"dataSets/ingredient_and_instructions.json\", \"r\") as dataSet:\n",
    "    data = json.load(dataSet)\n",
    "\n",
    "recipie = \"\" # The individual recipie\n",
    "recipie_list = [] # Where we will store the recipie for training\n",
    "\n",
    "for meal in data:\n",
    "    # Get the recipie name and its instructions\n",
    "    meal_info = data[meal]\n",
    "    recipie += meal.replace(\"-\", \" \").title() + \"\\n\\n\"\n",
    "    recipe_instructions = meal_info[\"instructions\"]\n",
    "\n",
    "    # Get the ingredients\n",
    "    ingredients = meal_info[\"ingredient_sections\"]\n",
    "\n",
    "    for i in ingredients:\n",
    "        # Retrieve ingredients and their details\n",
    "        item = \"\"           # Dough\n",
    "        qty = \"\"            # ½\n",
    "        unit = \"\"           # cup\n",
    "        ingredient = \"\"     # unsalted butter\n",
    "        primary_unit = { \"quantity\": None, \"display\": None }\n",
    "\n",
    "        # Some ingredients arent named, but are still listed as \"1 cup\" or similar\n",
    "        # Additionally, if there is an ingredient name, it may already have a colon\n",
    "        # in front of it, so we need to check for that before formatting\n",
    "        if i[\"name\"]:\n",
    "            if i[\"name\"][-1] != \":\": # If there isnt a colon, add one\n",
    "                item = i[\"name\"] + \": \\n\"\n",
    "            else: # Otherwise, just add the name\n",
    "                item = i[\"name\"] + \" \\n\"\n",
    "        else:\n",
    "            item = \"\"\n",
    "\n",
    "        recipie += item # Add the ingredient name to the recipie\n",
    "\n",
    "        # Loop over each ingredient\n",
    "        j = 0\n",
    "        while j < len(i[\"ingredients\"]):\n",
    "            # i[\"ingredients\"][0] may not exist, use try/except to prevent\n",
    "            # any ListIndexErrors from accessing an index that doesn't exist\n",
    "            try: primary_unit = i[\"ingredients\"][j][\"primary_unit\"]\n",
    "            except: primary_unit = { \"quantity\": None, \"display\": None } # Dummy object\n",
    "\n",
    "            # Some recipies don't list an ingredient at all\n",
    "            try: ingredient += i[\"ingredients\"][j][\"name\"]\n",
    "            except: ingredient += \"\"\n",
    "\n",
    "            # If the try/except blocks above are successful, we can set the values\n",
    "            if primary_unit[\"quantity\"]: qty = primary_unit[\"quantity\"] + \" \"\n",
    "            if primary_unit[\"display\"]: unit = primary_unit[\"display\"] + \" \"\n",
    "\n",
    "            # Construct the ingredient string\n",
    "            recipie += qty + unit  + ingredient + \"\\n\"\n",
    "            ingredient = \"\"\n",
    "            j += 1\n",
    "\n",
    "        recipie += \"\\n\"\n",
    "\n",
    "    # Newline before adding instructions\n",
    "    recipie += \"\\n\"\n",
    "\n",
    "    # Loop over the instructions and format them\n",
    "    step = 1\n",
    "    for text in recipe_instructions:\n",
    "        instruction = text[\"display_text\"]\n",
    "        recipie += str(step) + \". \" + instruction + \"\\n\"\n",
    "        step += 1\n",
    "\n",
    "    # Add the recipie to the list\n",
    "    recipie_list.append(recipie)\n",
    "\n",
    "    # Free memory for the next recipie\n",
    "    recipie = \"\"\n",
    "    recipe_instructions = []\n",
    "    ingredients = []\n",
    "    item = \"\"\n",
    "    qty = \"\"\n",
    "    unit = \"\"\n",
    "    ingredient = \"\"\n",
    "\n",
    "# For testing purposes, we can output a random recipie\n",
    "import random\n",
    "print(recipie_list[random.randint(0, len(recipie_list) - 1)])\n",
    "\n",
    "#print(recipie_list[0])\n"
   ]
  },
  {
   "cell_type": "code",
   "execution_count": 11,
   "metadata": {},
   "outputs": [],
   "source": [
    "#CSV File 1 Record per row\n",
    "#Record: 1 string with ingredients + recipe\n",
    "\n",
    "\n",
    "# [[recipe1], [recipe2], [recipe3]]\n",
    "\n",
    "import csv\n",
    "\n",
    "with open(\"recipe2.csv\", 'w', encoding=\"utf-8\") as csvfile:\n",
    "    csvwriter = csv.writer(csvfile)\n",
    "    for recipie in recipie_list:\n",
    "        csvwriter.writerow([recipie])\n"
   ]
  },
  {
   "cell_type": "markdown",
   "metadata": {},
   "source": [
    "--- MODEL TRANING ---"
   ]
  },
  {
   "cell_type": "code",
   "execution_count": 12,
   "metadata": {},
   "outputs": [],
   "source": [
    "from aitextgen.TokenDataset import TokenDataset\n",
    "from aitextgen.tokenizers import train_tokenizer\n",
    "from aitextgen.utils import GPT2ConfigCPU\n",
    "from aitextgen import aitextgen\n",
    "\n",
    "tokenizer_file = \"aitextgen.tokenizer.json\"\n",
    "config = GPT2ConfigCPU()\n",
    "ai = aitextgen(tokenizer_file=tokenizer_file, config=config)\n"
   ]
  },
  {
   "cell_type": "code",
   "execution_count": 14,
   "metadata": {},
   "outputs": [
    {
     "name": "stderr",
     "output_type": "stream",
     "text": [
      "You are tokenizing a CSV file, but you did not set line_by_line=True. Please change if unintended.\n"
     ]
    },
    {
     "name": "stdout",
     "output_type": "stream",
     "text": [
      "Loss: 1.550 — Avg: 1.547 — GPU Mem: 14527 MB:  21%|██        | 13420/64000 [49:49<3:07:49,  4.49it/s]\n"
     ]
    },
    {
     "name": "stderr",
     "output_type": "stream",
     "text": [
      "100%|██████████| 9922/9922 [01:20<00:00, 122.82it/s]\n",
      "pytorch_model.bin already exists in /trained_model and will be overwritten!\n",
      "Windows does not support multi-GPU training. Setting to 1 GPU.\n",
      "GPU available: True, used: True\n",
      "TPU available: False, using: 0 TPU cores\n",
      "IPU available: False, using: 0 IPUs\n",
      "HPU available: False, using: 0 HPUs\n",
      "LOCAL_RANK: 0 - CUDA_VISIBLE_DEVICES: [0]\n"
     ]
    },
    {
     "name": "stdout",
     "output_type": "stream",
     "text": [
      "Loss: 1.550 — Avg: 1.543 — GPU Mem: 13932 MB:   1%|▏         | 840/64000 [03:04<3:51:34,  4.55it/s]"
     ]
    }
   ],
   "source": [
    "\n",
    "file_name = \"recipe2.csv\"\n",
    "ai.save(\"aitextgen.model\")\n",
    "train_tokenizer(file_name)\n",
    "data = TokenDataset(file_name, tokenizer_file=tokenizer_file, block_size=64)\n",
    "ai.train(data, batch_size=2000, num_steps=64000, generate_every=1000, save_every=5000)\n",
    "ai.generate(prompt=\"steak\")\n",
    "\n",
    "#Save the model\n",
    "ai.save(\"aitextgen.model\")"
   ]
  }
 ],
 "metadata": {
  "kernelspec": {
   "display_name": "Python 3.9.13 64-bit (windows store)",
   "language": "python",
   "name": "python3"
  },
  "language_info": {
   "codemirror_mode": {
    "name": "ipython",
    "version": 3
   },
   "file_extension": ".py",
   "mimetype": "text/x-python",
   "name": "python",
   "nbconvert_exporter": "python",
   "pygments_lexer": "ipython3",
   "version": "3.9.13"
  },
  "orig_nbformat": 4,
  "vscode": {
   "interpreter": {
    "hash": "9c8d414b0aec66ad2f940a6d880bccb9cb3943935fd91cd7e2f5030a2b3ffe80"
   }
  }
 },
 "nbformat": 4,
 "nbformat_minor": 2
}
