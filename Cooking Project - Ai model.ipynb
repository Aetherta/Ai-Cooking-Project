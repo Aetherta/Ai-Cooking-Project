{
 "cells": [
  {
   "cell_type": "code",
   "execution_count": 6,
   "metadata": {},
   "outputs": [
    {
     "name": "stdout",
     "output_type": "stream",
     "text": [
      "Garlic And Dill Pesto Grilled Cheese\n",
      "\n",
      "Herb Pesto: \n",
      "1 cup fresh dill fronds\n",
      "1 cup fresh parsley leaves\n",
      "1 clove garlic\n",
      "¼ cup walnuts\n",
      "¼ teaspoon kosher salt\n",
      "½ teaspoon lemon\n",
      "¼ cup olive oil\n",
      "\n",
      "Grilled Cheese: \n",
      "1 tablespoon cabot unsalted butter\n",
      "2 slices sourdough bread\n",
      "½ cup Cabot Garlic and Dill Cheddar Cheese\n",
      "1 teaspoon fresh dill\n",
      "\n",
      "\n",
      "1. Make the pesto: Add the dill, parsley, garlic, walnuts, salt, and lemon juice to a high-powered blender or food processor and pulse, scraping down the sides as needed, until roughly chopped.\n",
      "2. Turn the blender or food processor on medium speed and slowly pour in the olive oil, stopping to scrape down the sides if needed. Blend for 1–2 minutes, until the pesto is smooth. The pesto will keep in an airtight container in the refrigerator for up to 3 days.\n",
      "3. Make the grilled cheese: Spread one side of each slice of bread with ½ tablespoon butter, then spread ½ teaspoon pesto on top of the butter on each slice.\n",
      "4. Heat a large nonstick skillet over medium heat. Place one slice of bread, buttered side down, in the pan, then spread with ¼ cup (10 g) pesto and top with the Cabot Garlic and Dill Cheddar Cheese. Cover with the other slice of bread, buttered side up.\n",
      "5. Cook for 2–3 minutes, until the bottom slice of bread is golden brown, then use a spatula to flip the sandwich and and cook for 3–5 minutes on the other side, until the bread is golden brown and the cheese is completely melted. Remove from the pan and let rest for 1 minute before slicing.\n",
      "6. Sprinkle with the dill and serve.\n",
      "7. Enjoy!\n",
      "\n"
     ]
    }
   ],
   "source": [
    "import json\n",
    "\n",
    "# Open the dataset JSON\n",
    "with open(\"dataSets/ingredient_and_instructions.json\", \"r\") as dataSet:\n",
    "    data = json.load(dataSet)\n",
    "\n",
    "recipie = \"\" # The individual recipie\n",
    "recipie_list = [] # Where we will store the recipie for training\n",
    "\n",
    "for meal in data:\n",
    "    # Get the recipie name and its instructions\n",
    "    meal_info = data[meal]\n",
    "    recipie += meal.replace(\"-\", \" \").title() + \"\\n\\n\"\n",
    "    recipe_instructions = meal_info[\"instructions\"]\n",
    "\n",
    "    # Get the ingredients\n",
    "    ingredients = meal_info[\"ingredient_sections\"]\n",
    "\n",
    "    for i in ingredients:\n",
    "        # Retrieve ingredients and their details\n",
    "        item = \"\"           # Dough\n",
    "        qty = \"\"            # ½\n",
    "        unit = \"\"           # cup\n",
    "        ingredient = \"\"     # unsalted butter\n",
    "        primary_unit = { \"quantity\": None, \"display\": None }\n",
    "\n",
    "        # Some ingredients arent named, but are still listed as \"1 cup\" or similar\n",
    "        # Additionally, if there is an ingredient name, it may already have a colon\n",
    "        # in front of it, so we need to check for that before formatting\n",
    "        if i[\"name\"]:\n",
    "            if i[\"name\"][-1] != \":\": # If there isnt a colon, add one\n",
    "                item = i[\"name\"] + \": \\n\"\n",
    "            else: # Otherwise, just add the name\n",
    "                item = i[\"name\"] + \" \\n\"\n",
    "        else:\n",
    "            item = \"\"\n",
    "\n",
    "        recipie += item # Add the ingredient name to the recipie\n",
    "\n",
    "        # Loop over each ingredient\n",
    "        j = 0\n",
    "        while j < len(i[\"ingredients\"]):\n",
    "            # i[\"ingredients\"][0] may not exist, use try/except to prevent\n",
    "            # any ListIndexErrors from accessing an index that doesn't exist\n",
    "            try: primary_unit = i[\"ingredients\"][j][\"primary_unit\"]\n",
    "            except: primary_unit = { \"quantity\": None, \"display\": None } # Dummy object\n",
    "\n",
    "            # Some recipies don't list an ingredient at all\n",
    "            try: ingredient += i[\"ingredients\"][j][\"name\"]\n",
    "            except: ingredient += \"\"\n",
    "\n",
    "            # If the try/except blocks above are successful, we can set the values\n",
    "            if primary_unit[\"quantity\"]: qty = primary_unit[\"quantity\"] + \" \"\n",
    "            if primary_unit[\"display\"]: unit = primary_unit[\"display\"] + \" \"\n",
    "\n",
    "            # Construct the ingredient string\n",
    "            recipie += qty + unit  + ingredient + \"\\n\"\n",
    "            ingredient = \"\"\n",
    "            j += 1\n",
    "\n",
    "        recipie += \"\\n\"\n",
    "\n",
    "    # Newline before adding instructions\n",
    "    recipie += \"\\n\"\n",
    "\n",
    "    # Loop over the instructions and format them\n",
    "    step = 1\n",
    "    for text in recipe_instructions:\n",
    "        instruction = text[\"display_text\"]\n",
    "        recipie += str(step) + \". \" + instruction + \"\\n\"\n",
    "        step += 1\n",
    "\n",
    "    # Add the recipie to the list\n",
    "    recipie_list.append(recipie)\n",
    "\n",
    "    # Free memory for the next recipie\n",
    "    recipie = \"\"\n",
    "    recipe_instructions = []\n",
    "    ingredients = []\n",
    "    item = \"\"\n",
    "    qty = \"\"\n",
    "    unit = \"\"\n",
    "    ingredient = \"\"\n",
    "\n",
    "# For testing purposes, we can output a random recipie\n",
    "import random\n",
    "print(recipie_list[random.randint(0, len(recipie_list) - 1)])\n",
    "\n",
    "#print(recipie_list[0])\n"
   ]
  },
  {
   "cell_type": "code",
   "execution_count": 7,
   "metadata": {},
   "outputs": [],
   "source": [
    "#CSV File 1 Record per row\n",
    "#Record: 1 string with ingredients + recipe\n",
    "\n",
    "\n",
    "# [[recipe1], [recipe2], [recipe3]]\n",
    "\n",
    "import csv\n",
    "\n",
    "with open(\"recipe.csv\", 'w', encoding=\"utf-8\") as csvfile:\n",
    "    csvwriter = csv.writer(csvfile)\n",
    "    for recipie in recipie_list:\n",
    "        csvwriter.writerow([recipie])\n"
   ]
  },
  {
   "cell_type": "markdown",
   "metadata": {},
   "source": [
    "--- MODEL TRANING ---"
   ]
  },
  {
   "cell_type": "code",
   "execution_count": 8,
   "metadata": {},
   "outputs": [],
   "source": [
    "from aitextgen.TokenDataset import TokenDataset\n",
    "from aitextgen.tokenizers import train_tokenizer\n",
    "from aitextgen.utils import GPT2ConfigCPU\n",
    "from aitextgen import aitextgen\n",
    "\n",
    "tokenizer_file = \"aitextgen.tokenizer.json\"\n",
    "config = GPT2ConfigCPU()\n",
    "ai = aitextgen(tokenizer_file=tokenizer_file, config=config)\n"
   ]
  },
  {
   "cell_type": "code",
   "execution_count": 9,
   "metadata": {},
   "outputs": [
    {
     "name": "stderr",
     "output_type": "stream",
     "text": [
      "You are tokenizing a CSV file, but you did not set line_by_line=True. Please change if unintended.\n",
      "100%|██████████| 9922/9922 [00:00<00:00, 13817.41it/s]\n",
      "pytorch_model.bin already exists in /trained_model and will be overwritten!\n",
      "Windows does not support multi-GPU training. Setting to 1 GPU.\n",
      "C:\\Users\\flash\\AppData\\Local\\Packages\\PythonSoftwareFoundation.Python.3.9_qbz5n2kfra8p0\\LocalCache\\local-packages\\Python39\\site-packages\\pytorch_lightning\\trainer\\connectors\\callback_connector.py:151: LightningDeprecationWarning: Setting `Trainer(checkpoint_callback=False)` is deprecated in v1.5 and will be removed in v1.7. Please consider using `Trainer(enable_checkpointing=False)`.\n",
      "  rank_zero_deprecation(\n",
      "C:\\Users\\flash\\AppData\\Local\\Packages\\PythonSoftwareFoundation.Python.3.9_qbz5n2kfra8p0\\LocalCache\\local-packages\\Python39\\site-packages\\pytorch_lightning\\trainer\\connectors\\callback_connector.py:96: LightningDeprecationWarning: Setting `Trainer(progress_bar_refresh_rate=20)` is deprecated in v1.5 and will be removed in v1.7. Please pass `pytorch_lightning.callbacks.progress.TQDMProgressBar` with `refresh_rate` directly to the Trainer's `callbacks` argument instead. Or, to disable the progress bar pass `enable_progress_bar = False` to the Trainer.\n",
      "  rank_zero_deprecation(\n",
      "C:\\Users\\flash\\AppData\\Local\\Packages\\PythonSoftwareFoundation.Python.3.9_qbz5n2kfra8p0\\LocalCache\\local-packages\\Python39\\site-packages\\pytorch_lightning\\trainer\\connectors\\callback_connector.py:171: LightningDeprecationWarning: Setting `Trainer(weights_summary=None)` is deprecated in v1.5 and will be removed in v1.7. Please set `Trainer(enable_model_summary=False)` instead.\n",
      "  rank_zero_deprecation(\n",
      "GPU available: True, used: True\n",
      "TPU available: False, using: 0 TPU cores\n",
      "IPU available: False, using: 0 IPUs\n",
      "HPU available: False, using: 0 HPUs\n",
      "C:\\Users\\flash\\AppData\\Local\\Packages\\PythonSoftwareFoundation.Python.3.9_qbz5n2kfra8p0\\LocalCache\\local-packages\\Python39\\site-packages\\pytorch_lightning\\trainer\\configuration_validator.py:376: LightningDeprecationWarning: The `Callback.on_batch_end` hook was deprecated in v1.6 and will be removed in v1.8. Please use `Callback.on_train_batch_end` instead.\n",
      "  rank_zero_deprecation(\n",
      "LOCAL_RANK: 0 - CUDA_VISIBLE_DEVICES: [0]\n"
     ]
    },
    {
     "name": "stdout",
     "output_type": "stream",
     "text": [
      "  0%|          | 0/64000 [00:00<?, ?it/s]"
     ]
    },
    {
     "name": "stderr",
     "output_type": "stream",
     "text": [
      "C:\\Users\\flash\\AppData\\Local\\Packages\\PythonSoftwareFoundation.Python.3.9_qbz5n2kfra8p0\\LocalCache\\local-packages\\Python39\\site-packages\\pytorch_lightning\\trainer\\trainer.py:2281: LightningDeprecationWarning: `trainer.progress_bar_dict` is deprecated in v1.5 and will be removed in v1.7. Use `ProgressBarBase.get_metrics` instead.\n",
      "  rank_zero_deprecation(\n"
     ]
    },
    {
     "name": "stdout",
     "output_type": "stream",
     "text": [
      "Loss: 5.950 — Avg: 6.830 — GPU Mem: 13442 MB:   0%|          | 20/64000 [00:26<23:42:37,  1.33s/it]"
     ]
    }
   ],
   "source": [
    "\n",
    "file_name = \"recipe.csv\"\n",
    "ai.save(\"aitextgen.model\")\n",
    "train_tokenizer(file_name)\n",
    "data = TokenDataset(file_name, tokenizer_file=tokenizer_file, block_size=64)\n",
    "ai.train(data, batch_size=2000, num_steps=64000, generate_every=1000, save_every=5000)\n",
    "ai.generate(prompt=\"steak\")\n",
    "\n",
    "#Save the model\n",
    "ai.save(\"aitextgen.model\")"
   ]
  },
  {
   "cell_type": "code",
   "execution_count": null,
   "metadata": {},
   "outputs": [
    {
     "ename": "NameError",
     "evalue": "name '_C' is not defined",
     "output_type": "error",
     "traceback": [
      "\u001b[1;31m---------------------------------------------------------------------------\u001b[0m",
      "\u001b[1;31mNameError\u001b[0m                                 Traceback (most recent call last)",
      "\u001b[1;32m~\\AppData\\Local\\Temp/ipykernel_2764/734709921.py\u001b[0m in \u001b[0;36m<module>\u001b[1;34m\u001b[0m\n\u001b[1;32m----> 1\u001b[1;33m \u001b[1;32mfrom\u001b[0m \u001b[0maitextgen\u001b[0m\u001b[1;33m.\u001b[0m\u001b[0mTokenDataset\u001b[0m \u001b[1;32mimport\u001b[0m \u001b[0mTokenDataset\u001b[0m\u001b[1;33m\u001b[0m\u001b[1;33m\u001b[0m\u001b[0m\n\u001b[0m\u001b[0;32m      2\u001b[0m \u001b[1;32mfrom\u001b[0m \u001b[0maitextgen\u001b[0m\u001b[1;33m.\u001b[0m\u001b[0mtokenizers\u001b[0m \u001b[1;32mimport\u001b[0m \u001b[0mtrain_tokenizer\u001b[0m\u001b[1;33m\u001b[0m\u001b[1;33m\u001b[0m\u001b[0m\n\u001b[0;32m      3\u001b[0m \u001b[1;32mfrom\u001b[0m \u001b[0maitextgen\u001b[0m\u001b[1;33m.\u001b[0m\u001b[0mutils\u001b[0m \u001b[1;32mimport\u001b[0m \u001b[0mGPT2ConfigCPU\u001b[0m\u001b[1;33m\u001b[0m\u001b[1;33m\u001b[0m\u001b[0m\n\u001b[0;32m      4\u001b[0m \u001b[1;32mfrom\u001b[0m \u001b[0maitextgen\u001b[0m \u001b[1;32mimport\u001b[0m \u001b[0maitextgen\u001b[0m\u001b[1;33m\u001b[0m\u001b[1;33m\u001b[0m\u001b[0m\n\u001b[0;32m      5\u001b[0m ai = aitextgen(model_folder=\"trained_model\",\n",
      "\u001b[1;32m~\\AppData\\Local\\Packages\\PythonSoftwareFoundation.Python.3.9_qbz5n2kfra8p0\\LocalCache\\local-packages\\Python39\\site-packages\\aitextgen\\__init__.py\u001b[0m in \u001b[0;36m<module>\u001b[1;34m\u001b[0m\n\u001b[1;32m----> 1\u001b[1;33m \u001b[1;32mfrom\u001b[0m \u001b[1;33m.\u001b[0m\u001b[0maitextgen\u001b[0m \u001b[1;32mimport\u001b[0m \u001b[0maitextgen\u001b[0m  \u001b[1;31m# noqa\u001b[0m\u001b[1;33m\u001b[0m\u001b[1;33m\u001b[0m\u001b[0m\n\u001b[0m",
      "\u001b[1;32m~\\AppData\\Local\\Packages\\PythonSoftwareFoundation.Python.3.9_qbz5n2kfra8p0\\LocalCache\\local-packages\\Python39\\site-packages\\aitextgen\\aitextgen.py\u001b[0m in \u001b[0;36m<module>\u001b[1;34m\u001b[0m\n\u001b[0;32m      9\u001b[0m \u001b[1;32mfrom\u001b[0m \u001b[0mtyping\u001b[0m \u001b[1;32mimport\u001b[0m \u001b[0mList\u001b[0m\u001b[1;33m,\u001b[0m \u001b[0mOptional\u001b[0m\u001b[1;33m,\u001b[0m \u001b[0mUnion\u001b[0m\u001b[1;33m\u001b[0m\u001b[1;33m\u001b[0m\u001b[0m\n\u001b[0;32m     10\u001b[0m \u001b[1;33m\u001b[0m\u001b[0m\n\u001b[1;32m---> 11\u001b[1;33m \u001b[1;32mimport\u001b[0m \u001b[0mpytorch_lightning\u001b[0m \u001b[1;32mas\u001b[0m \u001b[0mpl\u001b[0m\u001b[1;33m\u001b[0m\u001b[1;33m\u001b[0m\u001b[0m\n\u001b[0m\u001b[0;32m     12\u001b[0m \u001b[1;32mimport\u001b[0m \u001b[0mtorch\u001b[0m\u001b[1;33m\u001b[0m\u001b[1;33m\u001b[0m\u001b[0m\n\u001b[0;32m     13\u001b[0m \u001b[1;32mfrom\u001b[0m \u001b[0mpkg_resources\u001b[0m \u001b[1;32mimport\u001b[0m \u001b[0mresource_filename\u001b[0m\u001b[1;33m\u001b[0m\u001b[1;33m\u001b[0m\u001b[0m\n",
      "\u001b[1;32m~\\AppData\\Local\\Packages\\PythonSoftwareFoundation.Python.3.9_qbz5n2kfra8p0\\LocalCache\\local-packages\\Python39\\site-packages\\pytorch_lightning\\__init__.py\u001b[0m in \u001b[0;36m<module>\u001b[1;34m\u001b[0m\n\u001b[0;32m     28\u001b[0m     \u001b[0m_logger\u001b[0m\u001b[1;33m.\u001b[0m\u001b[0mpropagate\u001b[0m \u001b[1;33m=\u001b[0m \u001b[1;32mFalse\u001b[0m\u001b[1;33m\u001b[0m\u001b[1;33m\u001b[0m\u001b[0m\n\u001b[0;32m     29\u001b[0m \u001b[1;33m\u001b[0m\u001b[0m\n\u001b[1;32m---> 30\u001b[1;33m \u001b[1;32mfrom\u001b[0m \u001b[0mpytorch_lightning\u001b[0m\u001b[1;33m.\u001b[0m\u001b[0mcallbacks\u001b[0m \u001b[1;32mimport\u001b[0m \u001b[0mCallback\u001b[0m  \u001b[1;31m# noqa: E402\u001b[0m\u001b[1;33m\u001b[0m\u001b[1;33m\u001b[0m\u001b[0m\n\u001b[0m\u001b[0;32m     31\u001b[0m \u001b[1;32mfrom\u001b[0m \u001b[0mpytorch_lightning\u001b[0m\u001b[1;33m.\u001b[0m\u001b[0mcore\u001b[0m \u001b[1;32mimport\u001b[0m \u001b[0mLightningDataModule\u001b[0m\u001b[1;33m,\u001b[0m \u001b[0mLightningModule\u001b[0m  \u001b[1;31m# noqa: E402\u001b[0m\u001b[1;33m\u001b[0m\u001b[1;33m\u001b[0m\u001b[0m\n\u001b[0;32m     32\u001b[0m \u001b[1;32mfrom\u001b[0m \u001b[0mpytorch_lightning\u001b[0m\u001b[1;33m.\u001b[0m\u001b[0mtrainer\u001b[0m \u001b[1;32mimport\u001b[0m \u001b[0mTrainer\u001b[0m  \u001b[1;31m# noqa: E402\u001b[0m\u001b[1;33m\u001b[0m\u001b[1;33m\u001b[0m\u001b[0m\n",
      "\u001b[1;32m~\\AppData\\Local\\Packages\\PythonSoftwareFoundation.Python.3.9_qbz5n2kfra8p0\\LocalCache\\local-packages\\Python39\\site-packages\\pytorch_lightning\\callbacks\\__init__.py\u001b[0m in \u001b[0;36m<module>\u001b[1;34m\u001b[0m\n\u001b[0;32m     12\u001b[0m \u001b[1;31m# See the License for the specific language governing permissions and\u001b[0m\u001b[1;33m\u001b[0m\u001b[1;33m\u001b[0m\u001b[0m\n\u001b[0;32m     13\u001b[0m \u001b[1;31m# limitations under the License.\u001b[0m\u001b[1;33m\u001b[0m\u001b[1;33m\u001b[0m\u001b[0m\n\u001b[1;32m---> 14\u001b[1;33m \u001b[1;32mfrom\u001b[0m \u001b[0mpytorch_lightning\u001b[0m\u001b[1;33m.\u001b[0m\u001b[0mcallbacks\u001b[0m\u001b[1;33m.\u001b[0m\u001b[0mbase\u001b[0m \u001b[1;32mimport\u001b[0m \u001b[0mCallback\u001b[0m\u001b[1;33m\u001b[0m\u001b[1;33m\u001b[0m\u001b[0m\n\u001b[0m\u001b[0;32m     15\u001b[0m \u001b[1;32mfrom\u001b[0m \u001b[0mpytorch_lightning\u001b[0m\u001b[1;33m.\u001b[0m\u001b[0mcallbacks\u001b[0m\u001b[1;33m.\u001b[0m\u001b[0mdevice_stats_monitor\u001b[0m \u001b[1;32mimport\u001b[0m \u001b[0mDeviceStatsMonitor\u001b[0m\u001b[1;33m\u001b[0m\u001b[1;33m\u001b[0m\u001b[0m\n\u001b[0;32m     16\u001b[0m \u001b[1;32mfrom\u001b[0m \u001b[0mpytorch_lightning\u001b[0m\u001b[1;33m.\u001b[0m\u001b[0mcallbacks\u001b[0m\u001b[1;33m.\u001b[0m\u001b[0mearly_stopping\u001b[0m \u001b[1;32mimport\u001b[0m \u001b[0mEarlyStopping\u001b[0m\u001b[1;33m\u001b[0m\u001b[1;33m\u001b[0m\u001b[0m\n",
      "\u001b[1;32m~\\AppData\\Local\\Packages\\PythonSoftwareFoundation.Python.3.9_qbz5n2kfra8p0\\LocalCache\\local-packages\\Python39\\site-packages\\pytorch_lightning\\callbacks\\base.py\u001b[0m in \u001b[0;36m<module>\u001b[1;34m\u001b[0m\n\u001b[0;32m     19\u001b[0m \u001b[1;32mfrom\u001b[0m \u001b[0mtyping\u001b[0m \u001b[1;32mimport\u001b[0m \u001b[0mAny\u001b[0m\u001b[1;33m,\u001b[0m \u001b[0mDict\u001b[0m\u001b[1;33m,\u001b[0m \u001b[0mList\u001b[0m\u001b[1;33m,\u001b[0m \u001b[0mOptional\u001b[0m\u001b[1;33m,\u001b[0m \u001b[0mType\u001b[0m\u001b[1;33m\u001b[0m\u001b[1;33m\u001b[0m\u001b[0m\n\u001b[0;32m     20\u001b[0m \u001b[1;33m\u001b[0m\u001b[0m\n\u001b[1;32m---> 21\u001b[1;33m \u001b[1;32mimport\u001b[0m \u001b[0mtorch\u001b[0m\u001b[1;33m\u001b[0m\u001b[1;33m\u001b[0m\u001b[0m\n\u001b[0m\u001b[0;32m     22\u001b[0m \u001b[1;32mfrom\u001b[0m \u001b[0mtorch\u001b[0m\u001b[1;33m.\u001b[0m\u001b[0moptim\u001b[0m \u001b[1;32mimport\u001b[0m \u001b[0mOptimizer\u001b[0m\u001b[1;33m\u001b[0m\u001b[1;33m\u001b[0m\u001b[0m\n\u001b[0;32m     23\u001b[0m \u001b[1;33m\u001b[0m\u001b[0m\n",
      "\u001b[1;32m~\\AppData\\Local\\Packages\\PythonSoftwareFoundation.Python.3.9_qbz5n2kfra8p0\\LocalCache\\local-packages\\Python39\\site-packages\\torch\\__init__.py\u001b[0m in \u001b[0;36m<module>\u001b[1;34m\u001b[0m\n\u001b[0;32m    231\u001b[0m     \u001b[1;32mraise\u001b[0m  \u001b[1;31m# If __file__ is not None the cause is unknown, so just re-raise.\u001b[0m\u001b[1;33m\u001b[0m\u001b[1;33m\u001b[0m\u001b[0m\n\u001b[0;32m    232\u001b[0m \u001b[1;33m\u001b[0m\u001b[0m\n\u001b[1;32m--> 233\u001b[1;33m \u001b[1;32mfor\u001b[0m \u001b[0mname\u001b[0m \u001b[1;32min\u001b[0m \u001b[0mdir\u001b[0m\u001b[1;33m(\u001b[0m\u001b[0m_C\u001b[0m\u001b[1;33m)\u001b[0m\u001b[1;33m:\u001b[0m\u001b[1;33m\u001b[0m\u001b[1;33m\u001b[0m\u001b[0m\n\u001b[0m\u001b[0;32m    234\u001b[0m     \u001b[1;32mif\u001b[0m \u001b[0mname\u001b[0m\u001b[1;33m[\u001b[0m\u001b[1;36m0\u001b[0m\u001b[1;33m]\u001b[0m \u001b[1;33m!=\u001b[0m \u001b[1;34m'_'\u001b[0m \u001b[1;32mand\u001b[0m \u001b[1;32mnot\u001b[0m \u001b[0mname\u001b[0m\u001b[1;33m.\u001b[0m\u001b[0mendswith\u001b[0m\u001b[1;33m(\u001b[0m\u001b[1;34m'Base'\u001b[0m\u001b[1;33m)\u001b[0m\u001b[1;33m:\u001b[0m\u001b[1;33m\u001b[0m\u001b[1;33m\u001b[0m\u001b[0m\n\u001b[0;32m    235\u001b[0m         \u001b[0m__all__\u001b[0m\u001b[1;33m.\u001b[0m\u001b[0mappend\u001b[0m\u001b[1;33m(\u001b[0m\u001b[0mname\u001b[0m\u001b[1;33m)\u001b[0m\u001b[1;33m\u001b[0m\u001b[1;33m\u001b[0m\u001b[0m\n",
      "\u001b[1;31mNameError\u001b[0m: name '_C' is not defined"
     ]
    }
   ],
   "source": [
    "from aitextgen.TokenDataset import TokenDataset\n",
    "from aitextgen.tokenizers import train_tokenizer\n",
    "from aitextgen.utils import GPT2ConfigCPU\n",
    "from aitextgen import aitextgen\n",
    "ai = aitextgen(model_folder=\"trained_model\",\n",
    "                tokenizer_file=\"aitextgen.tokenizer.json\")\n",
    "\n",
    "ai.load(\"aitextgen.model\")             "
   ]
  },
  {
   "cell_type": "code",
   "execution_count": null,
   "metadata": {},
   "outputs": [],
   "source": [
    "ai.save(\"aitextgen.model\")"
   ]
  }
 ],
 "metadata": {
  "kernelspec": {
   "display_name": "Python 3.9.13 64-bit (windows store)",
   "language": "python",
   "name": "python3"
  },
  "language_info": {
   "codemirror_mode": {
    "name": "ipython",
    "version": 3
   },
   "file_extension": ".py",
   "mimetype": "text/x-python",
   "name": "python",
   "nbconvert_exporter": "python",
   "pygments_lexer": "ipython3",
   "version": "3.9.13"
  },
  "orig_nbformat": 4,
  "vscode": {
   "interpreter": {
    "hash": "9c8d414b0aec66ad2f940a6d880bccb9cb3943935fd91cd7e2f5030a2b3ffe80"
   }
  }
 },
 "nbformat": 4,
 "nbformat_minor": 2
}
