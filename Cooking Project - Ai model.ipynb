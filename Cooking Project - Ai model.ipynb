{
 "cells": [
  {
   "cell_type": "code",
   "execution_count": 17,
   "metadata": {},
   "outputs": [
    {
     "name": "stdout",
     "output_type": "stream",
     "text": [
      "Banana Berry Fruit Salad\n",
      "\n",
      "3 bananas\n",
      "12 oz fresh strawberry \n",
      "12 oz fresh raspberry\n",
      "\n",
      "Dressing: \n",
      "3 tablespoons lime juice\n",
      "1 tablespoon maple syrup\n",
      "\n",
      "\n",
      "1. Combine all the ingredients above in a large bowl.\n",
      "2. Mix the dressing ingredients together and spread over fruit, mix well.\n",
      "3. Enjoy!\n",
      "\n"
     ]
    }
   ],
   "source": [
    "import json\n",
    "\n",
    "# Open the dataset JSON\n",
    "with open(\"dataSets/ingredient_and_instructions.json\", \"r\") as dataSet:\n",
    "    data = json.load(dataSet)\n",
    "\n",
    "recipie = \"\" # The individual recipie\n",
    "recipie_list = [] # Where we will store the recipie for training\n",
    "\n",
    "for meal in data:\n",
    "    # Get the recipie name and its instructions\n",
    "    meal_info = data[meal]\n",
    "    recipie += meal.replace(\"-\", \" \").title() + \"\\n\\n\"\n",
    "    recipe_instructions = meal_info[\"instructions\"]\n",
    "\n",
    "    # Get the ingredients\n",
    "    ingredients = meal_info[\"ingredient_sections\"]\n",
    "\n",
    "    for i in ingredients:\n",
    "        # Retrieve ingredients and their details\n",
    "        item = \"\"           # Dough\n",
    "        qty = \"\"            # ½\n",
    "        unit = \"\"           # cup\n",
    "        ingredient = \"\"     # unsalted butter\n",
    "        primary_unit = { \"quantity\": None, \"display\": None }\n",
    "\n",
    "        # Some ingredients arent named, but are still listed as \"1 cup\" or similar\n",
    "        # Additionally, if there is an ingredient name, it may already have a colon\n",
    "        # in front of it, so we need to check for that before formatting\n",
    "        if i[\"name\"]:\n",
    "            if i[\"name\"][-1] != \":\": # If there isnt a colon, add one\n",
    "                item = i[\"name\"] + \": \\n\"\n",
    "            else: # Otherwise, just add the name\n",
    "                item = i[\"name\"] + \" \\n\"\n",
    "        else:\n",
    "            item = \"\"\n",
    "\n",
    "        recipie += item # Add the ingredient name to the recipie\n",
    "\n",
    "        # Loop over each ingredient\n",
    "        j = 0\n",
    "        while j < len(i[\"ingredients\"]):\n",
    "            # i[\"ingredients\"][0] may not exist, use try/except to prevent\n",
    "            # any ListIndexErrors from accessing an index that doesn't exist\n",
    "            try: primary_unit = i[\"ingredients\"][j][\"primary_unit\"]\n",
    "            except: primary_unit = { \"quantity\": None, \"display\": None } # Dummy object\n",
    "\n",
    "            # Some recipies don't list an ingredient at all\n",
    "            try: ingredient += i[\"ingredients\"][j][\"name\"]\n",
    "            except: ingredient += \"\"\n",
    "\n",
    "            # If the try/except blocks above are successful, we can set the values\n",
    "            if primary_unit[\"quantity\"]: qty = primary_unit[\"quantity\"] + \" \"\n",
    "            if primary_unit[\"display\"]: unit = primary_unit[\"display\"] + \" \"\n",
    "\n",
    "            # Construct the ingredient string\n",
    "            recipie += qty + unit  + ingredient + \"\\n\"\n",
    "            ingredient = \"\"\n",
    "            j += 1\n",
    "\n",
    "        recipie += \"\\n\"\n",
    "\n",
    "    # Newline before adding instructions\n",
    "    recipie += \"\\n\"\n",
    "\n",
    "    # Loop over the instructions and format them\n",
    "    step = 1\n",
    "    for text in recipe_instructions:\n",
    "        instruction = text[\"display_text\"]\n",
    "        recipie += str(step) + \". \" + instruction + \"\\n\"\n",
    "        step += 1\n",
    "\n",
    "    # Add the recipie to the list\n",
    "    recipie_list.append(recipie)\n",
    "\n",
    "    # Free memory for the next recipie\n",
    "    recipie = \"\"\n",
    "    recipe_instructions = []\n",
    "    ingredients = []\n",
    "    item = \"\"\n",
    "    qty = \"\"\n",
    "    unit = \"\"\n",
    "    ingredient = \"\"\n",
    "\n",
    "# For testing purposes, we can output a random recipie\n",
    "import random\n",
    "print(recipie_list[random.randint(0, len(recipie_list) - 1)])\n",
    "\n",
    "#print(recipie_list[0])\n"
   ]
  },
  {
   "cell_type": "code",
   "execution_count": 18,
   "metadata": {},
   "outputs": [],
   "source": [
    "#CSV File 1 Record per row\n",
    "#Record: 1 string with ingredients + recipe\n",
    "\n",
    "\n",
    "# [[recipe1], [recipe2], [recipe3]]\n",
    "\n",
    "import csv\n",
    "\n",
    "with open(\"recipe.csv\", 'w', encoding=\"utf-8\") as csvfile:\n",
    "    csvwriter = csv.writer(csvfile)\n",
    "    for recipie in recipie_list:\n",
    "        csvwriter.writerow([recipie])\n"
   ]
  },
  {
   "cell_type": "code",
   "execution_count": 19,
   "metadata": {},
   "outputs": [
    {
     "name": "stderr",
     "output_type": "stream",
     "text": [
      "You are tokenizing a CSV file, but you did not set line_by_line=True. Please change if unintended.\n",
      "100%|██████████| 9922/9922 [00:00<00:00, 13590.68it/s]\n",
      "pytorch_model.bin already exists in /trained_model and will be overwritten!\n",
      "Windows does not support multi-GPU training. Setting to 1 GPU.\n",
      "GPU available: True, used: True\n",
      "TPU available: False, using: 0 TPU cores\n",
      "IPU available: False, using: 0 IPUs\n",
      "HPU available: False, using: 0 HPUs\n",
      "LOCAL_RANK: 0 - CUDA_VISIBLE_DEVICES: [0]\n"
     ]
    },
    {
     "name": "stdout",
     "output_type": "stream",
     "text": [
      "Loss: 3.060 — Avg: 4.640 — GPU Mem: 9079 MB:   0%|          | 140/64000 [00:43<5:28:47,  3.24it/s]"
     ]
    }
   ],
   "source": [
    "from aitextgen.TokenDataset import TokenDataset\n",
    "from aitextgen.tokenizers import train_tokenizer\n",
    "from aitextgen.utils import GPT2ConfigCPU\n",
    "from aitextgen import aitextgen\n",
    "\n",
    "file_name = \"recipe.csv\"\n",
    "\n",
    "train_tokenizer(file_name)\n",
    "tokenizer_file = \"aitextgen.tokenizer.json\"\n",
    "config = GPT2ConfigCPU()\n",
    "ai = aitextgen(tokenizer_file=tokenizer_file, config=config)\n",
    "data = TokenDataset(file_name, tokenizer_file=tokenizer_file, block_size=64)\n",
    "ai.train(data, batch_size=1000, num_steps=64000, generate_every=1000, save_every=5000)\n",
    "ai.generate(prompt=\"steak\")"
   ]
  },
  {
   "cell_type": "code",
   "execution_count": null,
   "metadata": {},
   "outputs": [
    {
     "name": "stdout",
     "output_type": "stream",
     "text": [
      "\u001b[1micecream cake\u001b[0m: \n",
      "¼ cup heavy cream\n",
      "¼ cup powdered sugar\n",
      "1 ¼ cups heavy cream\n",
      "\n",
      "Filling: \n",
      "3 oz cream cheese\n",
      "¼ cup sugar\n",
      "1 teaspoon vanilla extract\n",
      "½ cup heavy cream\n",
      "½ teaspoon vanilla extract\n",
      "1\n"
     ]
    }
   ],
   "source": [
    "ai.generate(prompt=\"icecream cake\")"
   ]
  }
 ],
 "metadata": {
  "kernelspec": {
   "display_name": "Python 3.9.13 64-bit (windows store)",
   "language": "python",
   "name": "python3"
  },
  "language_info": {
   "codemirror_mode": {
    "name": "ipython",
    "version": 3
   },
   "file_extension": ".py",
   "mimetype": "text/x-python",
   "name": "python",
   "nbconvert_exporter": "python",
   "pygments_lexer": "ipython3",
   "version": "3.9.13"
  },
  "orig_nbformat": 4,
  "vscode": {
   "interpreter": {
    "hash": "9c8d414b0aec66ad2f940a6d880bccb9cb3943935fd91cd7e2f5030a2b3ffe80"
   }
  }
 },
 "nbformat": 4,
 "nbformat_minor": 2
}
